{
  "cells": [
    {
      "cell_type": "markdown",
      "metadata": {
        "id": "5uhS_63x00Pm"
      },
      "source": [
        "#*Instalación librerías*"
      ]
    },
    {
      "cell_type": "code",
      "execution_count": 1,
      "metadata": {
        "colab": {
          "base_uri": "https://localhost:8080/"
        },
        "id": "FkyASvtXzRtg",
        "outputId": "50eaa167-3bad-4b7a-9fff-c4a899a3ab81"
      },
      "outputs": [
        {
          "ename": "SyntaxError",
          "evalue": "invalid syntax (920935268.py, line 1)",
          "output_type": "error",
          "traceback": [
            "\u001b[1;36m  Cell \u001b[1;32mIn [1], line 1\u001b[1;36m\u001b[0m\n\u001b[1;33m    pip install BeautifulSoup4\u001b[0m\n\u001b[1;37m        ^\u001b[0m\n\u001b[1;31mSyntaxError\u001b[0m\u001b[1;31m:\u001b[0m invalid syntax\n"
          ]
        }
      ],
      "source": [
        "pip install BeautifulSoup4\n",
        "pip install requests"
      ]
    },
    {
      "cell_type": "markdown",
      "metadata": {},
      "source": [
        "#Nuevo markdown"
      ]
    },
    {
      "cell_type": "markdown",
      "metadata": {},
      "source": [
        "#Markdown 2"
      ]
    },
    {
      "cell_type": "markdown",
      "metadata": {},
      "source": [
        "#Markdown 3"
      ]
    },
    {
      "cell_type": "markdown",
      "metadata": {
        "id": "I_LtuRLD1SLY"
      },
      "source": [
        "#*Carga de Librerías*"
      ]
    },
    {
      "cell_type": "code",
      "execution_count": 2,
      "metadata": {
        "id": "AqT_46UA0zYU"
      },
      "outputs": [],
      "source": [
        "import requests\n",
        "from bs4 import BeautifulSoup\n",
        "import csv\n",
        "from datetime import datetime"
      ]
    },
    {
      "cell_type": "markdown",
      "metadata": {
        "id": "R-iYyXac1dAj"
      },
      "source": [
        "#*Scraping*"
      ]
    },
    {
      "cell_type": "markdown",
      "metadata": {
        "id": "9mtuFy191uob"
      },
      "source": [
        "***Extracción de texto***"
      ]
    },
    {
      "cell_type": "code",
      "execution_count": 5,
      "metadata": {
        "id": "b92yAQY51a9Q"
      },
      "outputs": [],
      "source": [
        "# indicar la ruta\n",
        "url_page = 'http://www.bolsamadrid.es/esp/aspx/Indices/Resumen.aspx'\n",
        "# tarda 480 milisegundos\n",
        "page = requests.get(url_page).text \n",
        "soup = BeautifulSoup(page, 'lxml')\n",
        "# Obtenemos la tabla por un ID específico\n",
        "tabla = soup.find('table', attrs={'id': 'ctl00_Contenido_tblÍndices'})\n"
      ]
    },
    {
      "cell_type": "markdown",
      "metadata": {
        "id": "zrQZ0NhG1yj_"
      },
      "source": [
        "***Ejemplos***"
      ]
    },
    {
      "cell_type": "code",
      "execution_count": 7,
      "metadata": {
        "id": "wsqpvrOb1tZa"
      },
      "outputs": [],
      "source": [
        "# Obtenemos la tabla por un ID específico\n",
        "tabla = soup.find('table', attrs={'id': 'ctl00_Contenido_tblÍndices'})"
      ]
    },
    {
      "cell_type": "code",
      "execution_count": 8,
      "metadata": {
        "colab": {
          "base_uri": "https://localhost:8080/"
        },
        "id": "9GLgpECR1806",
        "outputId": "1f31819b-0863-499b-fab9-79faef226b4c"
      },
      "outputs": [
        {
          "name": "stdout",
          "output_type": "stream",
          "text": [
            "https://www.lifeder.com/personajes-historicos/\n",
            "https://www.lifeder.com/sol/\n",
            "https://www.lifeder.com/pasos-metodo-cientifico/\n",
            "https://www.lifeder.com/plantas/\n",
            "https://www.lifeder.com/sistema-nervioso/\n",
            "https://www.lifeder.com/adn/\n",
            "https://www.lifeder.com/efecto-invernadero/\n",
            "https://www.lifeder.com/caracteristicas-literatura/\n",
            "https://www.lifeder.com/condicionamiento-clasico/\n",
            "https://www.lifeder.com/cientificos-famosos/\n",
            "#\n"
          ]
        }
      ],
      "source": [
        "url_page = 'https://www.lifeder.com/cientificos-famosos/'\n",
        "page = requests.get(url_page).text \n",
        "soup = BeautifulSoup(page, \"lxml\")\n",
        "contenido = soup.find('div', attrs={'class': 'td-post-content'})\n",
        "items = contenido.find_all('a')\n",
        "for item in items:\n",
        "    print(item['href'])"
      ]
    },
    {
      "cell_type": "code",
      "execution_count": null,
      "metadata": {},
      "outputs": [],
      "source": []
    }
  ],
  "metadata": {
    "colab": {
      "provenance": []
    },
    "kernelspec": {
      "display_name": "Python 3.10.8 64-bit",
      "language": "python",
      "name": "python3"
    },
    "language_info": {
      "codemirror_mode": {
        "name": "ipython",
        "version": 3
      },
      "file_extension": ".py",
      "mimetype": "text/x-python",
      "name": "python",
      "nbconvert_exporter": "python",
      "pygments_lexer": "ipython3",
      "version": "3.10.8"
    },
    "vscode": {
      "interpreter": {
        "hash": "3058939dc6f8187aaa4fb477d5595eae394e42dec049075deaed196d6de9bbbb"
      }
    }
  },
  "nbformat": 4,
  "nbformat_minor": 0
}
